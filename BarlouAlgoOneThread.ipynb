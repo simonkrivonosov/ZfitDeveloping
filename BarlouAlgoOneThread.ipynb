{
 "cells": [
  {
   "cell_type": "code",
   "execution_count": null,
   "metadata": {},
   "outputs": [],
   "source": []
  },
  {
   "cell_type": "code",
   "execution_count": 1,
   "metadata": {},
   "outputs": [
    {
     "name": "stderr",
     "output_type": "stream",
     "text": [
      "/anaconda3/lib/python3.6/site-packages/zfit/util/execution.py:70: UserWarning: Not running on Linux. Determining available cpus for thread can failand be overestimated. Workaround (only if too many cpus are used):`zfit.run.set_n_cpu(your_cpu_number)`\n",
      "  warnings.warn(\"Not running on Linux. Determining available cpus for thread can fail\"\n"
     ]
    }
   ],
   "source": [
    "import zfit\n",
    "import math\n",
    "from zfit import z\n",
    "import numpy as np\n",
    "import tensorflow as tf\n",
    "from scipy.optimize import minimize\n",
    "\n",
    "zfit.settings.options['numerical_grad'] = True\n",
    "class HistPDF(zfit.pdf.BasePDF):\n",
    "\n",
    "    def __init__(self, hist_args, hist_bins, obs, name='HistPDF'):\n",
    "        self.rv_hist = scipy.stats.rv_histogram([hist_args, hist_bins])\n",
    "        super().__init__(obs=obs, name=name)\n",
    "\n",
    "    def _unnormalized_pdf(self, x):\n",
    "        x = z.unstack_x(x)\n",
    "        probs =  z.py_function(func=self.rv_hist.pdf, inp=[x], Tout=tf.float64)\n",
    "        probs.set_shape(x.shape)\n",
    "        return probs"
   ]
  },
  {
   "cell_type": "code",
   "execution_count": 2,
   "metadata": {},
   "outputs": [],
   "source": [
    "# mu2 = zfit.Parameter(\"mu2\", 5., step_size=0)\n",
    "# sigma2 = zfit.Parameter(\"sigma2\", 1., step_size=0)\n",
    "# lambd2 = zfit.Parameter(\"lambda2\", -0.2, step_size=0)\n",
    "# frac2 = zfit.Parameter(\"fraction2\", 0.5, 0, 1)\n",
    "# frac1 = zfit.Parameter(\"fraction1\", 0.5, step_size=0)\n",
    "# create space\n",
    "obs1 = zfit.Space(\"x\", limits=(0, 10))\n",
    "obs2 = zfit.Space(\"x\", limits=(0, 10))\n",
    "\n",
    "# parameters\n",
    "mu1 = zfit.Parameter(\"mu1\", 5., 1, 10, step_size=0)\n",
    "sigma1 = zfit.Parameter(\"sigma1\", 1., 0.1, 10, step_size=0)\n",
    "lambd1 = zfit.Parameter(\"lambda1\", -0.2, -1, -0.01, step_size=0)\n",
    "frac1 = zfit.Parameter(\"fraction1\", 0.5, 0, 1)\n",
    "\n",
    "mu2 = zfit.Parameter(\"mu2\", 5., step_size=0)\n",
    "sigma2 = zfit.Parameter(\"sigma2\", 1., step_size=0)\n",
    "lambd2 = zfit.Parameter(\"lambda2\", -0.2, step_size=0)\n",
    "frac2 = zfit.Parameter(\"fraction2\", 0.5, step_size=0)\n",
    "\n",
    "\n",
    "\n",
    "\n",
    "gauss1 = zfit.pdf.Gauss(mu=mu1, sigma=sigma1, obs=obs1)\n",
    "exponential1 = zfit.pdf.Exponential(lambd1, obs=obs1)\n",
    "model1 = zfit.pdf.SumPDF([gauss1, exponential1], fracs=frac1)\n",
    "\n",
    "\n",
    "gauss2 = zfit.pdf.Gauss(mu=mu2, sigma=sigma2, obs=obs2)\n",
    "exponential2 = zfit.pdf.Exponential(lambd2, obs=obs2)\n",
    "model2 = zfit.pdf.SumPDF([gauss2, exponential2], fracs=frac2)"
   ]
  },
  {
   "cell_type": "code",
   "execution_count": 3,
   "metadata": {},
   "outputs": [
    {
     "name": "stdout",
     "output_type": "stream",
     "text": [
      "WARNING:tensorflow:5 out of the last 5 calls to <function BaseModel.sample.<locals>.run_tf at 0x10469421e0> triggered tf.function retracing. Tracing is expensive and the excessive number of tracings could be due to (1) creating @tf.function repeatedly in a loop, (2) passing tensors with different shapes, (3) passing Python objects instead of tensors. For (1), please define your @tf.function outside of the loop. For (2), @tf.function has experimental_relax_shapes=True option that relaxes argument shapes that can avoid unnecessary retracing. For (3), please refer to https://www.tensorflow.org/tutorials/customization/performance#python_or_tensor_args and https://www.tensorflow.org/api_docs/python/tf/function for  more details.\n",
      "WARNING:tensorflow:6 out of the last 6 calls to <function BaseModel.sample.<locals>.run_tf at 0x1046986a60> triggered tf.function retracing. Tracing is expensive and the excessive number of tracings could be due to (1) creating @tf.function repeatedly in a loop, (2) passing tensors with different shapes, (3) passing Python objects instead of tensors. For (1), please define your @tf.function outside of the loop. For (2), @tf.function has experimental_relax_shapes=True option that relaxes argument shapes that can avoid unnecessary retracing. For (3), please refer to https://www.tensorflow.org/tutorials/customization/performance#python_or_tensor_args and https://www.tensorflow.org/api_docs/python/tf/function for  more details.\n"
     ]
    }
   ],
   "source": [
    "n_sample = 10000\n",
    "\n",
    "exp_data = exponential2.sample(n=n_sample * (1 - frac1)).numpy()\n",
    "\n",
    "gauss_data = gauss2.sample(n=n_sample * frac1).numpy()\n",
    "\n",
    "data = model1.create_sampler(n_sample, limits=obs1)\n",
    "data.resample()"
   ]
  },
  {
   "cell_type": "code",
   "execution_count": 4,
   "metadata": {},
   "outputs": [],
   "source": [
    "data_np = data[:, 0].numpy()\n",
    "exp_data_np = exp_data[:, 0]\n",
    "gauss_data_np = gauss_data[:, 0]"
   ]
  },
  {
   "cell_type": "code",
   "execution_count": 5,
   "metadata": {},
   "outputs": [],
   "source": [
    "data_hist = np.histogram(data_np, bins=30)\n",
    "exp_data_hist = np.histogram(exp_data_np, bins=30)\n",
    "gauss_data_hist = np.histogram(gauss_data_np, bins=30)\n",
    "sim_hists = []\n",
    "sim_hists.append(exp_data_hist)\n",
    "sim_hists.append(gauss_data_hist)"
   ]
  },
  {
   "cell_type": "code",
   "execution_count": null,
   "metadata": {},
   "outputs": [],
   "source": []
  },
  {
   "cell_type": "code",
   "execution_count": 89,
   "metadata": {},
   "outputs": [],
   "source": [
    "import scipy\n",
    "class FractionFitterV2:\n",
    "\n",
    "    def __init__(self, data_hist, sim_hists, P):\n",
    "        self.data_hist = data_hist\n",
    "        self.P = np.array(P)  # vectorization 3\n",
    "        self.sim_hists = [hist for hist in sim_hists]\n",
    "        self.d = np.array(self.data_hist[0]) # where d[i] amount of events in bin from data\n",
    "        self.N_D = np.sum(self.data_hist[0])#all observable data amount\n",
    "\n",
    "        # vectorization 3\n",
    "        self.N = np.array([np.sum(h[0]) for h in sim_hists])# amount of simulation data from sources e.g. N[0] from source 0 .. N[j] from source j\n",
    "        self.sources_num = len(P)\n",
    "        self.bins_num = len(data_hist[0])\n",
    "        \n",
    "    def norma(self, v):\n",
    "        return math.sqrt(np.sum(v ** 2))\n",
    "    #function to minimize for finding optimat t according to (15) from the paper        \n",
    "    def sq_f(self, t, a, p, i):\n",
    "        return (np.sum((p * a[:, i] / (1 + p * t))) - self.d[i]/(1 - t))**2 \n",
    "    \n",
    "    def sq_f_vectorized(self, t, a, p, i):\n",
    "        term_1 = np.sum((p[:, None] * a[:, i] / (1 + p[:, None] * t[None, :])))\n",
    "        term_2 = self.d[i]/(1 - t)\n",
    "        return (term_1 - term_2)**2\n",
    "    \n",
    "    def f(self, t, a, p, i):\n",
    "        return np.sum((p * a[:, i] / (1 + p * t))) - self.d[i]/(1 - t)\n",
    "\n",
    "    def f_vectorized(self, t, a, p, i):  # add an axis argumend to sum\n",
    "        term1 = np.sum((p[:, None] * a[:, i] / (1 + p[:, None] * t[None, :])),\n",
    "                       axis=0)\n",
    "        term2 = self.d[i]/(1 - t)\n",
    "        return term1 - term2\n",
    "\n",
    "    def der_fsq(self, t, a, p, i):\n",
    "        return -2 * self.f(t, a, p, i) * (np.sum((p * a[:, i])*(p/(1 + p * t)**2)) + self.d[i]/(1 - t)**2)\n",
    "\n",
    "    def der_f(self, t, a, p, i):  # TODO + self.d[i]/(1 - t)**2\n",
    "        return (np.sum((p * a[:, i])*(p/(1 + p * t)**2)) + self.d[i]/(1 - t)**2)\n",
    "    \n",
    "    def der_f_vectorized(self, t, a, p, i):\n",
    "        return np.sum((p[:, None] * a[:, i] * p[:, None])/(1 + p[:, None] * t[None, :])**2, axis=0) + self.d[i]/(1 - t)**2\n",
    "    \n",
    "    def sqF(self, p, A): # need to find optimal step for p, p_(k+1) = p_k - k * sqF/div_sqF\n",
    "        res = 0\n",
    "        for j in range(self.sources_num):\n",
    "            tmp_res = 0\n",
    "            for i in range(self.bins_num):\n",
    "                tmp_res += ((self.d[i] * A[j][i])/np.sum(p * A[:, i]) - A[j][i])\n",
    "            res += tmp_res**2\n",
    "            \n",
    "        return res\n",
    "                \n",
    "    def div_sqF(self, p, k, A):\n",
    "        res = 0\n",
    "        for j in range(self.sources_num):\n",
    "            sum1 = 0\n",
    "            sum2 = 0\n",
    "            for i in range(self.bins_num):\n",
    "                sum1 -= (self.d[i] * A[j][i] * A[k][i])/(np.sum(p * A[:, i]))**2\n",
    "                sum2 += ((self.d[i] * A[j][i])/np.sum(p * A[:, i]) - A[j][i])\n",
    "            res += sum1*sum2\n",
    "        return res\n",
    "            \n",
    "\n",
    "    def fit(self, eps):\n",
    "        # let assume initial set of p_j:\n",
    "        # p = []\n",
    "        # p_new = []\n",
    "        # for i in range(self.sources_num):\n",
    "        #     p.append(self.N_D * self.P[i]/self.N[i])\n",
    "        \n",
    "        p = self.N_D * self.P / self.N  # speedup technical 3:\n",
    "        p_new = np.array(p).copy()\n",
    "\n",
    "        # technical 4\n",
    "        zeros_shape = (self.sources_num, self.bins_num)\n",
    "        a = np.zeros(zeros_shape)  #a[j][i] amount of observations in i bin from j source\n",
    "        for j in range(self.sources_num):\n",
    "            for i in range(self.bins_num):\n",
    "                a[j][i] = self.sim_hists[j][0][i]\n",
    "\n",
    "        nonzero_indices = np.where(self.d != 0)[0]\n",
    "        \n",
    "\n",
    "        while True: \n",
    "\n",
    "            # t = []# t[i] = 1 - d[i]/f[i]\n",
    "            # t calculating ...\n",
    "            # for i in range(self.bins_num):\n",
    "            #     if(self.d[i] == 0):\n",
    "            #         t.append(1)\n",
    "            #         continue\n",
    "\n",
    "            #     t.append(scipy.optimize.root(self.f, x0=0.1, \n",
    "            #                                  args=(a, p, i),\n",
    "            #                                  method='hybr',  # 'krylov',\n",
    "            #                                  tol=None,\n",
    "            #                                  callback=None,\n",
    "            #                                  options={}).x[0])\n",
    "            \n",
    "            t = np.ones_like(self.d)\n",
    "            x0 = t[nonzero_indices] * 0.1\n",
    "            p = np.asarray(p)\n",
    "            # print(self.d.shape)\n",
    "            \n",
    "            # print(nonzero_indices.shape)\n",
    "            t_solved = scipy.optimize.root(self.f_vectorized,\n",
    "                                           x0=x0, \n",
    "                                        #    x0=0.1 * np.ones_like(nonzero_indices), \n",
    "                                             args=(a, p, nonzero_indices),\n",
    "                                             jac=self.der_f_vectorized,\n",
    "                                             method='hybr',  # 'krylov',\n",
    "                                             tol=None,\n",
    "                                             callback=None,\n",
    "                                             options={}).x\n",
    "            t[nonzero_indices] = t_solved\n",
    "\n",
    "            # print(\"-1/max(p)= \", -1/max(p))\n",
    "            # print(t)\n",
    "            A = np.zeros(self.sources_num)  #A[j][i] fitted amount of observations in i bin from j source\n",
    "\n",
    "            # Techical 5\n",
    "            A = a/(1 + p[j, None]*t[None, i])\n",
    "            A = np.maximum(A, 0.1)\n",
    "            # for j in range(self.sources_num):\n",
    "            #     for i in range(self.bins_num):\n",
    "            #         A[j][i] = a[j][i]/(1 + p[j]*t[i])\n",
    "            #         if(A[j][i] == 0.0):\n",
    "            #             A[j][i] = 0.1\n",
    "                    \n",
    "            # print(\"p=\", p)\n",
    "            #bounds on sum of p = 1 and p > 0\n",
    "            #\n",
    "            \n",
    "            for i in range(len(p)):\n",
    "                p_new[i] = p[i] - self.sqF(p, A)/self.div_sqF(p, i, A)\n",
    "                \n",
    "            print(np.abs(self.norma(p_new) - self.norma(p)))\n",
    "            # print(p_new)\n",
    "            # print(p)\n",
    "            p_old = p\n",
    "            p = p_new.copy()  # bugfix 2\n",
    "            if np.abs(self.norma(p) - self.norma(p_old)) < eps:\n",
    "                return p\n",
    "            \n"
   ]
  },
  {
   "cell_type": "code",
   "execution_count": 90,
   "metadata": {},
   "outputs": [],
   "source": [
    "fitter = FractionFitterV2(data_hist=data_hist, sim_hists=sim_hists, P=[0.4, 0.6])"
   ]
  },
  {
   "cell_type": "code",
   "execution_count": 91,
   "metadata": {},
   "outputs": [
    {
     "ename": "TypeError",
     "evalue": "fsolve: there is a mismatch between the input and output shape of the 'fprime' argument 'der_f_vectorized'.Shape should be (30, 30) but it is (30,).",
     "output_type": "error",
     "traceback": [
      "\u001b[0;31m---------------------------------------------------------------------------\u001b[0m",
      "\u001b[0;31mTypeError\u001b[0m                                 Traceback (most recent call last)",
      "\u001b[0;32m<ipython-input-91-862158189624>\u001b[0m in \u001b[0;36m<module>\u001b[0;34m\u001b[0m\n\u001b[0;32m----> 1\u001b[0;31m \u001b[0mp\u001b[0m \u001b[0;34m=\u001b[0m \u001b[0mfitter\u001b[0m\u001b[0;34m.\u001b[0m\u001b[0mfit\u001b[0m\u001b[0;34m(\u001b[0m\u001b[0;36m1e-1\u001b[0m\u001b[0;34m)\u001b[0m\u001b[0;34m\u001b[0m\u001b[0;34m\u001b[0m\u001b[0m\n\u001b[0m\u001b[1;32m      2\u001b[0m \u001b[0mprint\u001b[0m\u001b[0;34m(\u001b[0m\u001b[0mp\u001b[0m\u001b[0;34m)\u001b[0m\u001b[0;34m\u001b[0m\u001b[0;34m\u001b[0m\u001b[0m\n",
      "\u001b[0;32m<ipython-input-89-81a84b38b278>\u001b[0m in \u001b[0;36mfit\u001b[0;34m(self, eps)\u001b[0m\n\u001b[1;32m    115\u001b[0m                                              \u001b[0mtol\u001b[0m\u001b[0;34m=\u001b[0m\u001b[0;32mNone\u001b[0m\u001b[0;34m,\u001b[0m\u001b[0;34m\u001b[0m\u001b[0;34m\u001b[0m\u001b[0m\n\u001b[1;32m    116\u001b[0m                                              \u001b[0mcallback\u001b[0m\u001b[0;34m=\u001b[0m\u001b[0;32mNone\u001b[0m\u001b[0;34m,\u001b[0m\u001b[0;34m\u001b[0m\u001b[0;34m\u001b[0m\u001b[0m\n\u001b[0;32m--> 117\u001b[0;31m                                              options={}).x\n\u001b[0m\u001b[1;32m    118\u001b[0m             \u001b[0mt\u001b[0m\u001b[0;34m[\u001b[0m\u001b[0mnonzero_indices\u001b[0m\u001b[0;34m]\u001b[0m \u001b[0;34m=\u001b[0m \u001b[0mt_solved\u001b[0m\u001b[0;34m\u001b[0m\u001b[0;34m\u001b[0m\u001b[0m\n\u001b[1;32m    119\u001b[0m \u001b[0;34m\u001b[0m\u001b[0m\n",
      "\u001b[0;32m/anaconda3/lib/python3.6/site-packages/scipy/optimize/_root.py\u001b[0m in \u001b[0;36mroot\u001b[0;34m(fun, x0, args, method, jac, tol, callback, options)\u001b[0m\n\u001b[1;32m    185\u001b[0m \u001b[0;34m\u001b[0m\u001b[0m\n\u001b[1;32m    186\u001b[0m     \u001b[0;32mif\u001b[0m \u001b[0mmeth\u001b[0m \u001b[0;34m==\u001b[0m \u001b[0;34m'hybr'\u001b[0m\u001b[0;34m:\u001b[0m\u001b[0;34m\u001b[0m\u001b[0;34m\u001b[0m\u001b[0m\n\u001b[0;32m--> 187\u001b[0;31m         \u001b[0msol\u001b[0m \u001b[0;34m=\u001b[0m \u001b[0m_root_hybr\u001b[0m\u001b[0;34m(\u001b[0m\u001b[0mfun\u001b[0m\u001b[0;34m,\u001b[0m \u001b[0mx0\u001b[0m\u001b[0;34m,\u001b[0m \u001b[0margs\u001b[0m\u001b[0;34m=\u001b[0m\u001b[0margs\u001b[0m\u001b[0;34m,\u001b[0m \u001b[0mjac\u001b[0m\u001b[0;34m=\u001b[0m\u001b[0mjac\u001b[0m\u001b[0;34m,\u001b[0m \u001b[0;34m**\u001b[0m\u001b[0moptions\u001b[0m\u001b[0;34m)\u001b[0m\u001b[0;34m\u001b[0m\u001b[0;34m\u001b[0m\u001b[0m\n\u001b[0m\u001b[1;32m    188\u001b[0m     \u001b[0;32melif\u001b[0m \u001b[0mmeth\u001b[0m \u001b[0;34m==\u001b[0m \u001b[0;34m'lm'\u001b[0m\u001b[0;34m:\u001b[0m\u001b[0;34m\u001b[0m\u001b[0;34m\u001b[0m\u001b[0m\n\u001b[1;32m    189\u001b[0m         \u001b[0msol\u001b[0m \u001b[0;34m=\u001b[0m \u001b[0m_root_leastsq\u001b[0m\u001b[0;34m(\u001b[0m\u001b[0mfun\u001b[0m\u001b[0;34m,\u001b[0m \u001b[0mx0\u001b[0m\u001b[0;34m,\u001b[0m \u001b[0margs\u001b[0m\u001b[0;34m=\u001b[0m\u001b[0margs\u001b[0m\u001b[0;34m,\u001b[0m \u001b[0mjac\u001b[0m\u001b[0;34m=\u001b[0m\u001b[0mjac\u001b[0m\u001b[0;34m,\u001b[0m \u001b[0;34m**\u001b[0m\u001b[0moptions\u001b[0m\u001b[0;34m)\u001b[0m\u001b[0;34m\u001b[0m\u001b[0;34m\u001b[0m\u001b[0m\n",
      "\u001b[0;32m/anaconda3/lib/python3.6/site-packages/scipy/optimize/minpack.py\u001b[0m in \u001b[0;36m_root_hybr\u001b[0;34m(func, x0, args, jac, col_deriv, xtol, maxfev, band, eps, factor, diag, **unknown_options)\u001b[0m\n\u001b[1;32m    225\u001b[0m                                  ml, mu, epsfcn, factor, diag)\n\u001b[1;32m    226\u001b[0m     \u001b[0;32melse\u001b[0m\u001b[0;34m:\u001b[0m\u001b[0;34m\u001b[0m\u001b[0;34m\u001b[0m\u001b[0m\n\u001b[0;32m--> 227\u001b[0;31m         \u001b[0m_check_func\u001b[0m\u001b[0;34m(\u001b[0m\u001b[0;34m'fsolve'\u001b[0m\u001b[0;34m,\u001b[0m \u001b[0;34m'fprime'\u001b[0m\u001b[0;34m,\u001b[0m \u001b[0mDfun\u001b[0m\u001b[0;34m,\u001b[0m \u001b[0mx0\u001b[0m\u001b[0;34m,\u001b[0m \u001b[0margs\u001b[0m\u001b[0;34m,\u001b[0m \u001b[0mn\u001b[0m\u001b[0;34m,\u001b[0m \u001b[0;34m(\u001b[0m\u001b[0mn\u001b[0m\u001b[0;34m,\u001b[0m \u001b[0mn\u001b[0m\u001b[0;34m)\u001b[0m\u001b[0;34m)\u001b[0m\u001b[0;34m\u001b[0m\u001b[0;34m\u001b[0m\u001b[0m\n\u001b[0m\u001b[1;32m    228\u001b[0m         \u001b[0;32mif\u001b[0m \u001b[0;34m(\u001b[0m\u001b[0mmaxfev\u001b[0m \u001b[0;34m==\u001b[0m \u001b[0;36m0\u001b[0m\u001b[0;34m)\u001b[0m\u001b[0;34m:\u001b[0m\u001b[0;34m\u001b[0m\u001b[0;34m\u001b[0m\u001b[0m\n\u001b[1;32m    229\u001b[0m             \u001b[0mmaxfev\u001b[0m \u001b[0;34m=\u001b[0m \u001b[0;36m100\u001b[0m \u001b[0;34m*\u001b[0m \u001b[0;34m(\u001b[0m\u001b[0mn\u001b[0m \u001b[0;34m+\u001b[0m \u001b[0;36m1\u001b[0m\u001b[0;34m)\u001b[0m\u001b[0;34m\u001b[0m\u001b[0;34m\u001b[0m\u001b[0m\n",
      "\u001b[0;32m/anaconda3/lib/python3.6/site-packages/scipy/optimize/minpack.py\u001b[0m in \u001b[0;36m_check_func\u001b[0;34m(checker, argname, thefunc, x0, args, numinputs, output_shape)\u001b[0m\n\u001b[1;32m     38\u001b[0m                 \u001b[0mmsg\u001b[0m \u001b[0;34m+=\u001b[0m \u001b[0;34m\".\"\u001b[0m\u001b[0;34m\u001b[0m\u001b[0;34m\u001b[0m\u001b[0m\n\u001b[1;32m     39\u001b[0m             \u001b[0mmsg\u001b[0m \u001b[0;34m+=\u001b[0m \u001b[0;34m'Shape should be %s but it is %s.'\u001b[0m \u001b[0;34m%\u001b[0m \u001b[0;34m(\u001b[0m\u001b[0moutput_shape\u001b[0m\u001b[0;34m,\u001b[0m \u001b[0mshape\u001b[0m\u001b[0;34m(\u001b[0m\u001b[0mres\u001b[0m\u001b[0;34m)\u001b[0m\u001b[0;34m)\u001b[0m\u001b[0;34m\u001b[0m\u001b[0;34m\u001b[0m\u001b[0m\n\u001b[0;32m---> 40\u001b[0;31m             \u001b[0;32mraise\u001b[0m \u001b[0mTypeError\u001b[0m\u001b[0;34m(\u001b[0m\u001b[0mmsg\u001b[0m\u001b[0;34m)\u001b[0m\u001b[0;34m\u001b[0m\u001b[0;34m\u001b[0m\u001b[0m\n\u001b[0m\u001b[1;32m     41\u001b[0m     \u001b[0;32mif\u001b[0m \u001b[0missubdtype\u001b[0m\u001b[0;34m(\u001b[0m\u001b[0mres\u001b[0m\u001b[0;34m.\u001b[0m\u001b[0mdtype\u001b[0m\u001b[0;34m,\u001b[0m \u001b[0minexact\u001b[0m\u001b[0;34m)\u001b[0m\u001b[0;34m:\u001b[0m\u001b[0;34m\u001b[0m\u001b[0;34m\u001b[0m\u001b[0m\n\u001b[1;32m     42\u001b[0m         \u001b[0mdt\u001b[0m \u001b[0;34m=\u001b[0m \u001b[0mres\u001b[0m\u001b[0;34m.\u001b[0m\u001b[0mdtype\u001b[0m\u001b[0;34m\u001b[0m\u001b[0;34m\u001b[0m\u001b[0m\n",
      "\u001b[0;31mTypeError\u001b[0m: fsolve: there is a mismatch between the input and output shape of the 'fprime' argument 'der_f_vectorized'.Shape should be (30, 30) but it is (30,)."
     ]
    }
   ],
   "source": [
    "p = fitter.fit(1e-1)\n",
    "print(p)"
   ]
  },
  {
   "cell_type": "code",
   "execution_count": 92,
   "metadata": {},
   "outputs": [
    {
     "ename": "NameError",
     "evalue": "name 'p' is not defined",
     "output_type": "error",
     "traceback": [
      "\u001b[0;31m---------------------------------------------------------------------------\u001b[0m",
      "\u001b[0;31mNameError\u001b[0m                                 Traceback (most recent call last)",
      "\u001b[0;32m<ipython-input-92-6c10289a8da7>\u001b[0m in \u001b[0;36m<module>\u001b[0;34m\u001b[0m\n\u001b[0;32m----> 1\u001b[0;31m \u001b[0mp\u001b[0m\u001b[0;34m\u001b[0m\u001b[0;34m\u001b[0m\u001b[0m\n\u001b[0m",
      "\u001b[0;31mNameError\u001b[0m: name 'p' is not defined"
     ]
    }
   ],
   "source": [
    "p"
   ]
  },
  {
   "cell_type": "code",
   "execution_count": null,
   "metadata": {},
   "outputs": [],
   "source": [
    "P = []\n",
    "for j in range(len(p)):\n",
    "    P.append(p[j] * fitter.N[j]/fitter.N_D)"
   ]
  },
  {
   "cell_type": "code",
   "execution_count": null,
   "metadata": {},
   "outputs": [],
   "source": [
    "P"
   ]
  },
  {
   "cell_type": "code",
   "execution_count": null,
   "metadata": {},
   "outputs": [],
   "source": [
    "zfit.run.set_autograd_mode(False)\n",
    "zfit.run.set_graph_mode(False)\n",
    "\n",
    "# create our favorite minimizer\n",
    "minimizer = zfit.minimize.IpyoptV1()\n",
    "\n",
    "\n",
    "# minimizer = zfit.minimize.Minuit()\n",
    "# minimizer = zfit.minimize.ScipyTrustKrylovV1()\n",
    "# minimizer = zfit.minimize.NLoptLBFGSV1()\n",
    "\n",
    "\n",
    "def func(x):\n",
    "    x = np.array(x)  # make sure it's an array\n",
    "    return np.sum((x - 0.1) ** 2 + x[1] ** 4)\n",
    "\n",
    "\n",
    "# we can also use a more complicated function instead\n",
    "# from scipy.optimize import rosen as func\n",
    "\n",
    "\n",
    "# we need to set the errordef, the definition of \"1 sigma\"\n",
    "func.errordef = 0.5\n",
    "\n",
    "# initial parameters\n",
    "params = [1, -3, 2, 1.4, 11]\n",
    "# or for a more fine-grained control\n",
    "# params = {\n",
    "#     'value': [1, -3, 2, 1.4, 11],  # mandatory\n",
    "#     'lower': [-2, -5, -5, -10, -15],  # lower bound, can be omitted\n",
    "#     'upper': [2, 4, 5, 10, 15],  # upper bound, can be omitted\n",
    "#     'step_size': [0.1] * 5,  # initial step size, can be omitted\n",
    "# }\n",
    "\n",
    "# minimize\n",
    "result = minimizer.minimize(func, params)\n",
    "\n",
    "# estimate errors\n",
    "result.hesse()\n",
    "result.errors()\n",
    "print(result)"
   ]
  },
  {
   "cell_type": "code",
   "execution_count": null,
   "metadata": {},
   "outputs": [],
   "source": [
    "print(np.sum((P[:] * A[:,0])))"
   ]
  },
  {
   "cell_type": "code",
   "execution_count": null,
   "metadata": {},
   "outputs": [],
   "source": [
    "print(A[:, :])"
   ]
  },
  {
   "cell_type": "code",
   "execution_count": null,
   "metadata": {},
   "outputs": [],
   "source": []
  }
 ],
 "metadata": {
  "kernelspec": {
   "display_name": "Python 3",
   "language": "python",
   "name": "python3"
  },
  "language_info": {
   "codemirror_mode": {
    "name": "ipython",
    "version": 3
   },
   "file_extension": ".py",
   "mimetype": "text/x-python",
   "name": "python",
   "nbconvert_exporter": "python",
   "pygments_lexer": "ipython3",
   "version": "3.6.9"
  }
 },
 "nbformat": 4,
 "nbformat_minor": 2
}
