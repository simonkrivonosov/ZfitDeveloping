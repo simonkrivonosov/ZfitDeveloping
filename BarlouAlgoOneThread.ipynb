{
 "cells": [
  {
   "cell_type": "code",
   "execution_count": null,
   "metadata": {},
   "outputs": [],
   "source": []
  },
  {
   "cell_type": "code",
   "execution_count": 3,
   "metadata": {},
   "outputs": [
    {
     "name": "stderr",
     "output_type": "stream",
     "text": [
      "/anaconda3/lib/python3.6/site-packages/zfit/util/execution.py:70: UserWarning: Not running on Linux. Determining available cpus for thread can failand be overestimated. Workaround (only if too many cpus are used):`zfit.run.set_n_cpu(your_cpu_number)`\n",
      "  warnings.warn(\"Not running on Linux. Determining available cpus for thread can fail\"\n"
     ]
    }
   ],
   "source": [
    "import zfit\n",
    "import math\n",
    "from zfit import z\n",
    "import numpy as np\n",
    "import tensorflow as tf\n",
    "from scipy.optimize import minimize\n",
    "\n",
    "zfit.settings.options['numerical_grad'] = True\n",
    "class HistPDF(zfit.pdf.BasePDF):\n",
    "\n",
    "    def __init__(self, hist_args, hist_bins, obs, name='HistPDF'):\n",
    "        self.rv_hist = scipy.stats.rv_histogram([hist_args, hist_bins])\n",
    "        super().__init__(obs=obs, name=name)\n",
    "\n",
    "    def _unnormalized_pdf(self, x):\n",
    "        x = z.unstack_x(x)\n",
    "        probs =  z.py_function(func=self.rv_hist.pdf, inp=[x], Tout=tf.float64)\n",
    "        probs.set_shape(x.shape)\n",
    "        return probs"
   ]
  },
  {
   "cell_type": "code",
   "execution_count": 4,
   "metadata": {},
   "outputs": [],
   "source": [
    "# mu2 = zfit.Parameter(\"mu2\", 5., step_size=0)\n",
    "# sigma2 = zfit.Parameter(\"sigma2\", 1., step_size=0)\n",
    "# lambd2 = zfit.Parameter(\"lambda2\", -0.2, step_size=0)\n",
    "# frac2 = zfit.Parameter(\"fraction2\", 0.5, 0, 1)\n",
    "# frac1 = zfit.Parameter(\"fraction1\", 0.5, step_size=0)\n",
    "# create space\n",
    "obs1 = zfit.Space(\"x\", limits=(0, 10))\n",
    "obs2 = zfit.Space(\"x\", limits=(0, 10))\n",
    "\n",
    "# parameters\n",
    "mu1 = zfit.Parameter(\"mu1\", 5., 1, 10, step_size=0)\n",
    "sigma1 = zfit.Parameter(\"sigma1\", 1., 0.1, 10, step_size=0)\n",
    "lambd1 = zfit.Parameter(\"lambda1\", -0.2, -1, -0.01, step_size=0)\n",
    "frac1 = zfit.Parameter(\"fraction1\", 0.5, 0, 1)\n",
    "\n",
    "mu2 = zfit.Parameter(\"mu2\", 5., step_size=0)\n",
    "sigma2 = zfit.Parameter(\"sigma2\", 1., step_size=0)\n",
    "lambd2 = zfit.Parameter(\"lambda2\", -0.2, step_size=0)\n",
    "frac2 = zfit.Parameter(\"fraction2\", 0.5, step_size=0)\n",
    "\n",
    "\n",
    "\n",
    "\n",
    "gauss1 = zfit.pdf.Gauss(mu=mu1, sigma=sigma1, obs=obs1)\n",
    "exponential1 = zfit.pdf.Exponential(lambd1, obs=obs1)\n",
    "model1 = zfit.pdf.SumPDF([gauss1, exponential1], fracs=frac1)\n",
    "\n",
    "\n",
    "gauss2 = zfit.pdf.Gauss(mu=mu2, sigma=sigma2, obs=obs2)\n",
    "exponential2 = zfit.pdf.Exponential(lambd2, obs=obs2)\n",
    "model2 = zfit.pdf.SumPDF([gauss2, exponential2], fracs=frac2)"
   ]
  },
  {
   "cell_type": "code",
   "execution_count": 5,
   "metadata": {},
   "outputs": [
    {
     "name": "stdout",
     "output_type": "stream",
     "text": [
      "WARNING:tensorflow:5 out of the last 5 calls to <function BaseModel.sample.<locals>.run_tf at 0x1042a326a8> triggered tf.function retracing. Tracing is expensive and the excessive number of tracings could be due to (1) creating @tf.function repeatedly in a loop, (2) passing tensors with different shapes, (3) passing Python objects instead of tensors. For (1), please define your @tf.function outside of the loop. For (2), @tf.function has experimental_relax_shapes=True option that relaxes argument shapes that can avoid unnecessary retracing. For (3), please refer to https://www.tensorflow.org/tutorials/customization/performance#python_or_tensor_args and https://www.tensorflow.org/api_docs/python/tf/function for  more details.\n",
      "WARNING:tensorflow:6 out of the last 6 calls to <function BaseModel.sample.<locals>.run_tf at 0x1042a58c80> triggered tf.function retracing. Tracing is expensive and the excessive number of tracings could be due to (1) creating @tf.function repeatedly in a loop, (2) passing tensors with different shapes, (3) passing Python objects instead of tensors. For (1), please define your @tf.function outside of the loop. For (2), @tf.function has experimental_relax_shapes=True option that relaxes argument shapes that can avoid unnecessary retracing. For (3), please refer to https://www.tensorflow.org/tutorials/customization/performance#python_or_tensor_args and https://www.tensorflow.org/api_docs/python/tf/function for  more details.\n"
     ]
    }
   ],
   "source": [
    "n_sample = 10000\n",
    "\n",
    "exp_data = exponential2.sample(n=n_sample * (1 - frac1)).numpy()\n",
    "\n",
    "gauss_data = gauss2.sample(n=n_sample * frac1).numpy()\n",
    "\n",
    "data = model1.create_sampler(n_sample, limits=obs1)\n",
    "data.resample()"
   ]
  },
  {
   "cell_type": "code",
   "execution_count": 6,
   "metadata": {},
   "outputs": [],
   "source": [
    "data_np = data[:, 0].numpy()\n",
    "exp_data_np = exp_data[:, 0]\n",
    "gauss_data_np = gauss_data[:, 0]"
   ]
  },
  {
   "cell_type": "code",
   "execution_count": 7,
   "metadata": {},
   "outputs": [],
   "source": [
    "data_hist = np.histogram(data_np, bins=10)\n",
    "exp_data_hist = np.histogram(exp_data_np, bins=10)\n",
    "gauss_data_hist = np.histogram(gauss_data_np, bins=10)\n",
    "sim_hists = []\n",
    "sim_hists.append(exp_data_hist)\n",
    "sim_hists.append(gauss_data_hist)"
   ]
  },
  {
   "cell_type": "code",
   "execution_count": 32,
   "metadata": {},
   "outputs": [],
   "source": [
    "class FractionFitter(object):\n",
    "\n",
    "    def __init__(self, data_hist, sim_hists, P):\n",
    "        self.data_hist = data_hist\n",
    "        self.P = P\n",
    "        self.sim_hists = [hist for hist in sim_hists]\n",
    "        self.d = self.data_hist[0] # where d[i] amount of events in bin from data\n",
    "        self.N_D = np.sum(self.data_hist[0])#all observable data amount\n",
    "        self.N = [np.sum(h[0]) for h in sim_hists]# amount of simulation data from sources e.g. N[0] from source 0 .. N[j] from source j\n",
    "        self.sources_num = len(P)\n",
    "        self.bins_num = len(data_hist[0])\n",
    "        \n",
    "    def norma(self, v):\n",
    "        return math.sqrt(sum(vi ** 2 for vi in v))\n",
    "            \n",
    "    def f(self, t, a, p, i):\n",
    "        return np.abs(np.sum((p[:] * a[:, i] / (1 + p[:] * t))) * (1 - t) - self.d[i])\n",
    "    \n",
    "    def der_f(self, t, a, p, i):\n",
    "        return np.abs(np.sum((p[:] * a[:, i])*(p[:]/(1 + p[:] * t)**2)) + self.d[i]/(1 - t)**2)\n",
    "    \n",
    "    def sqF(self, p, A):\n",
    "        res = 0\n",
    "        for j in range(self.sources_num):\n",
    "            tmp_res = 0\n",
    "            for i in range(self.bins_num):\n",
    "                tmp_res += ((self.d[i] * A[j][i])/np.sum(p[:] * A[:, i]) - A[j][i])\n",
    "            res += tmp_res**2\n",
    "            \n",
    "        return res\n",
    "                \n",
    "    def div_sqF(self, p, k, A):\n",
    "        res = 0\n",
    "        for j in range(self.sources_num):\n",
    "            sum1 = 0\n",
    "            sum2 = 0\n",
    "            for i in range(self.bins_num):\n",
    "                sum1 -= (self.d[i] * A[j][i] * A[k][i])/(np.sum(p[:] * A[:, i]))**2\n",
    "                sum2 += ((self.d[i] * A[j][i])/np.sum(p[:] * A[:, i]) - A[j][i])\n",
    "            res += sum1*sum2\n",
    "        return res\n",
    "            \n",
    "\n",
    "    def fit(self, eps):\n",
    "        # let assume initial set of p_j:\n",
    "        p = []\n",
    "        p_new = []\n",
    "        for i in range(self.sources_num):\n",
    "            p.append(self.N_D * self.P[i]/self.N[i])\n",
    "        p_new = p.copy()\n",
    "\n",
    "        a = np.array([[0.0] * self.bins_num for i in range(self.sources_num)])#a[j][i] amount of observations in i bin from j source\n",
    "        for j in range(self.sources_num):\n",
    "            for i in range(self.bins_num):\n",
    "                a[j][i] = self.sim_hists[j][0][i]\n",
    "        while(True): \n",
    "#             t0 = [] # initial values for t\n",
    "#             for i in range(self.bins_num):\n",
    "#                 t0.append(1 - self.d[i]/np.sum(p[:]*a[:, i]))\n",
    "            t = []# t[i] = 1 - d[i]/f[i]\n",
    "            # t calculating ...\n",
    "            for i in range(self.bins_num):\n",
    "                if(self.d[i] == 1):\n",
    "                    t.append(1)\n",
    "                    continue\n",
    "#                 t.append(minimize(self.f, 0, args=(a, p, i), method='nelder-mead', bounds=bnds\n",
    "#                                   options={'xtol': 1e-3, 'disp': False}).x[0])\n",
    "                t.append(minimize(self.f, 0, args=(a, p, i), method='SLSQP', jac=self.der_f, bounds=[(-1/max(p), 1)],\n",
    "                                  options={'xtol': 1e-3, 'disp': False}).x[0]) # L-BFGS-B, TNC, SLSQP, trust-constr\n",
    "            print(\"-1/max(p)= \", -1/max(p))\n",
    "            print(t)\n",
    "            A = np.array([[0.0] * self.bins_num for i in range(self.sources_num)])#A[j][i] fitted amount of observations in i bin from j source\n",
    "            for j in range(self.sources_num):\n",
    "                for i in range(self.bins_num):\n",
    "                    A[j][i] = a[j][i]/(1 + p[j]*t[i])\n",
    "                    if(A[j][i] == 0.0):\n",
    "                        A[j][i] = 0.1\n",
    "                    \n",
    "            print(\"p=\", p)\n",
    "            #bounds on sum of p = 1 and p > 0\n",
    "            #\n",
    "            for i in range(len(p)):\n",
    "                p_new[i] = p[i] - 0.1*self.sqF(p, A)/self.div_sqF(p, i, A)\n",
    "                \n",
    "            print(np.abs(self.norma(p_new) - self.norma(p)))\n",
    "            if np.abs(self.norma(p_new) - self.norma(p)) < eps:\n",
    "                return p\n",
    "            \n",
    "            p = p_new.copy()\n",
    "        \n",
    "        \n",
    "\n",
    "        \n",
    "        \n",
    "        \n"
   ]
  },
  {
   "cell_type": "code",
   "execution_count": 33,
   "metadata": {},
   "outputs": [],
   "source": [
    "fitter = FractionFitter(data_hist=data_hist, sim_hists=sim_hists, P=[0.6, 0.4])"
   ]
  },
  {
   "cell_type": "code",
   "execution_count": 34,
   "metadata": {},
   "outputs": [
    {
     "name": "stderr",
     "output_type": "stream",
     "text": [
      "/anaconda3/lib/python3.6/site-packages/ipykernel_launcher.py:69: OptimizeWarning: Unknown solver options: xtol\n",
      "/anaconda3/lib/python3.6/site-packages/ipykernel_launcher.py:17: RuntimeWarning: divide by zero encountered in true_divide\n"
     ]
    },
    {
     "name": "stdout",
     "output_type": "stream",
     "text": [
      "-1/max(p)=  -0.8333333333333334\n",
      "[-2.070859638310632e-07, -1.6894420291386228e-07, -1.3929056037939582e-07, -1.6938148610091163e-07, -0.08333351680505104, -0.22583341074380095, -0.16327116096793168, -2.786594751394166e-07, -1.691451558402221e-07, -2.476126404859898e-07]\n",
      "p= [1.2, 0.8]\n",
      "0.04114218294205485\n",
      "-1/max(p)=  -0.817007487752212\n",
      "[-1.963148841935787e-07, -1.6033303789316182e-07, -1.31350539328749e-07, -1.5547194042489798e-07, -0.08170091549230571, -0.184949217728291, -0.15522854077314277, -2.5940342165839186e-07, -1.6076918470278668e-07, -2.3391757974016833e-07]\n",
      "p= [1.2239789903899723, 0.8379977985930875]\n",
      "0.0402689545123065\n",
      "-1/max(p)=  -0.7997229456720801\n",
      "[-1.855702224978678e-07, -1.5193328961237505e-07, -1.241543674400934e-07, -1.4414143922006083e-07, -0.04022236074420463, -0.17071861810178868, -0.15194746849252655, -2.4171064812968994e-07, -1.5250092952700903e-07, -2.2028072944384678e-07]\n",
      "p= [1.2504330473594312, 0.8705576326478662]\n",
      "0.04548097810017837\n",
      "-1/max(p)=  -0.7804808742106043\n",
      "[-1.7434962378287336e-07, -1.432179891388115e-07, -1.1688302136744414e-07, -1.3322196771981584e-07, -0.026037496101886076, -0.14827915298729888, -0.11136442179845661, -2.2381960631579625e-07, -1.4388530734758558e-07, -2.060688061011068e-07]\n",
      "p= [1.2812613774955373, 0.9058055612521602]\n",
      "0.05195020824709817\n",
      "-1/max(p)=  -0.7590584014859202\n",
      "[-1.627206455371681e-07, -1.3423002612649634e-07, -1.0955204424519497e-07, -1.2267248517439007e-07, -0.005682960277792166, -0.14418160630485607, -0.09718985948525939, -2.058083818345143e-07, -1.3496797332770707e-07, -1.9137531390377574e-07]\n",
      "p= [1.3174216872409508, 0.9445871107113033]\n",
      "0.06171129105160955\n",
      "-1/max(p)=  -0.7344678001641736\n",
      "[-1.504235490571191e-07, -1.2476160281407558e-07, -1.019884092319316e-07, -1.1222292344529555e-07, -2.454300068944743e-07, -0.10453215714999517, -0.07377995269513694, -1.8728843941056005e-07, -1.2554098258079616e-07, -1.7587578244102733e-07]\n",
      "p= [1.3615300763035123, 0.988920930722571]\n",
      "0.07414953909087396\n",
      "-1/max(p)=  -0.7066172094649696\n",
      "[-1.377441584659152e-07, -1.1501239902152512e-07, -9.430850281309992e-08, -1.0195132791982442e-07, -2.142877435626356e-07, -0.08809123373233142, -0.07066187487281256, -1.6861288798452515e-07, -1.1581169582555268e-07, -1.5994768601208316e-07]\n",
      "p= [1.4151933842046833, 1.0411572632807624]\n",
      "0.09304244499572834\n",
      "-1/max(p)=  -0.6739824696954007\n",
      "[-1.2442971254879484e-07, -1.0478722224447532e-07, -8.637239912104183e-08, -9.169501729744487e-08, -1.839867086157212e-07, -0.06739763063736788, -0.027533639222699455, -1.494839945974395e-07, -1.0557844024669611e-07, -1.432852471003606e-07]\n",
      "p= [1.4837181157722685, 1.1049683967616128]\n",
      "0.1177781828699398\n",
      "-1/max(p)=  -0.6363680035349955\n",
      "[-1.1093534720321801e-07, -9.441642553111567e-08, -7.84149933854151e-08, -8.172963225116096e-08, -1.553473922464296e-07, -0.024160486599007665, -2.2816252577904053e-07, -1.305414704591847e-07, -9.517684323538402e-08, -1.2647818522980198e-07]\n",
      "p= [1.5714177872631012, 1.1843410558422598]\n",
      "0.15171278080835382\n",
      "-1/max(p)=  -0.5934258497366074\n",
      "[-9.7667868139324e-08, -8.419401660923615e-08, -7.064391973778258e-08, -7.227668652947208e-08, -1.2899214599892588e-07, -2.0435357047431455e-07, -1.8556866409032932e-07, -1.1233449004500937e-07, -8.490372831309933e-08, -1.1004388539661673e-07]\n",
      "p= [1.6851305018880638, 1.2854701377567186]\n",
      "0.20457192773782795\n",
      "-1/max(p)=  -0.5435930332716309\n",
      "[-8.47204110489483e-08, -7.418582771684886e-08, -6.310589382202555e-08, -6.339195446647196e-08, -1.0510873016966456e-07, -1.5908735927735359e-07, -1.4694294601479373e-07, -9.501554041277874e-08, -7.482440378125793e-08, -9.412164028140277e-08]\n",
      "p= [1.8396115085976548, 1.42019023119908]\n",
      "0.2895065006591335\n",
      "-1/max(p)=  -0.4854851665407581\n",
      "[-7.239207597961265e-08, -6.460390773657134e-08, -5.594548727903097e-08, -5.522807110820942e-08, -8.404323679389497e-08, -1.2018438779656568e-07, -1.1312088590254962e-07, -7.898160114426399e-08, -6.515421633838864e-08, -7.909548497223578e-08]\n",
      "p= [2.059795167636799, 1.608667673392018]\n",
      "0.4303554914462251\n",
      "-1/max(p)=  -0.41862408087887865\n",
      "[-6.113570651260497e-08, -5.578031591375248e-08, -4.939023112810381e-08, -4.7999462186359246e-08, -6.6389631616092e-08, -8.864714803634016e-08, -8.51260690517118e-08, -6.48087488179515e-08, -5.623197432234595e-08, -6.55444228266588e-08]\n",
      "p= [2.3887780127233817, 1.886534383743487]\n",
      "0.6836043427231209\n",
      "-1/max(p)=  -0.3432618233410799\n",
      "[-5.118972948132298e-08, -4.788992783346134e-08, -4.351641094106225e-08, -4.187661458717883e-08, -5.235843929169768e-08, -6.450495232973737e-08, -6.331984499983075e-08, -5.2819391687714064e-08, -4.8234156942759863e-08, -5.3820256196111755e-08]\n",
      "p= [2.913228130838064, 2.325365204198948]\n",
      "1.192880618197604\n",
      "-1/max(p)=  -0.2610569054794154\n",
      "[-4.249105290844608e-08, -4.062975759796699e-08, -3.798502421869744e-08, -3.6462536714947766e-08, -4.141072477272854e-08, -4.7007470030939966e-08, -4.7096450507252574e-08, -4.2805265599845e-08, -4.091707474299029e-08, -4.3766837694496516e-08]\n",
      "p= [3.8305824477753605, 3.088160882344392]\n",
      "2.3951405413215525\n",
      "-1/max(p)=  -0.17620358361475044\n",
      "[-3.269596199284462e-08, -3.276202904683514e-08, -2.8865260489889768e-08, -2.8220181203021203e-08, -3.2392409896365315e-08, -3.451727803632986e-08, -3.4251861341720924e-08, -3.35935305030883e-08, -3.3238015183166e-08, -3.4340300789008336e-08]\n",
      "p= [5.675253473768098, 4.616089210086733]\n",
      "6.011799334456289\n",
      "-1/max(p)=  -0.09700082622751603\n",
      "[0.0, 0.0, -2.284881013994391e-08, -2.2344034709256877e-08, 0.0, -2.31184378117723e-08, -1.964662751229514e-08, -2.297788121289794e-08, -2.2502049417970976e-08, -2.33133556698885e-08]\n",
      "p= [10.309190538794937, 8.4461788786376]\n",
      "22.16063902591327\n",
      "-1/max(p)=  -0.036500053152982236\n",
      "[0.0, -1.1069294289739332e-08, 0.0, 0.0, 0.0, 0.0, 0.0, 0.0, -1.107607486859375e-08, -1.1096234645319339e-08]\n",
      "p= [27.39722037687759, 22.556312983945034]\n",
      "169.0288730086212\n",
      "-1/max(p)=  -0.006338995478057445\n",
      "[0.0, 0.0, 0.0, -2.200242558247239e-09, 0.0, 0.0, -2.1987697958876643e-09, 0.0, -2.19178403549856e-09, 0.0]\n",
      "p= [157.75370142817096, 130.15722248578982]\n",
      "5810.13880474625\n",
      "-1/max(p)=  -0.00021556904026036032\n",
      "[0.0, 0.0, 0.0, 0.0, 0.0, 0.0, -7.706358009686815e-11, -7.679361240701896e-11, 0.0, 0.0]\n",
      "p= [4638.885058783109, 3828.423669121221]\n",
      "5059500.35100514\n",
      "-1/max(p)=  -2.5594966657736113e-07\n",
      "[0.0, 0.0, 0.0, 0.0, 0.0, 0.0, 0.0, 0.0, 0.0, 0.0]\n",
      "p= [3907018.1781141283, 3224073.7023768546]\n",
      "3589468452511.124\n",
      "-1/max(p)=  -3.611888362353737e-13\n",
      "[0.0, 0.0, 0.0, -1.2945713425776888e-19, 0.0, 0.0, 0.0, 0.0, 0.0, 0.0]\n",
      "p= [2768634851572.035, 2284508961521.4]\n",
      "1.8023547647299894e+24\n",
      "-1/max(p)=  -7.19311408530453e-25\n",
      "[0.0, 0.0, 0.0, 0.0, 0.0, -2.5798984140277105e-31, 0.0, 0.0, 0.0, 0.0]\n",
      "p= [1.390218461907884e+24, 1.147072502559586e+24]\n",
      "4.544192807219138e+47\n",
      "-1/max(p)=  -2.852960657196988e-48\n",
      "[0.0, 0.0, 0.0, 0.0, 0.0, 0.0, 0.0, 0.0, 0.0, 0.0]\n",
      "p= [3.505130705105805e+47, 2.8920143515042645e+47]\n",
      "2.8886047973598936e+94\n",
      "-1/max(p)=  -4.488090385371754e-95\n",
      "[-1.5963354895208066e-101, -1.597499509693829e-101, -1.601558945664953e-101, -1.6086234498550727e-101, -1.6104470682132735e-101, -1.609710842779384e-101, -1.6061777960265658e-101, -1.6004529802673427e-101, -1.5969238400033592e-101, -1.5963475832374038e-101]\n",
      "p= [2.228119120014489e+94, 1.8383478621731122e+94]\n"
     ]
    },
    {
     "name": "stderr",
     "output_type": "stream",
     "text": [
      "/anaconda3/lib/python3.6/site-packages/ipykernel_launcher.py:14: RuntimeWarning: overflow encountered in double_scalars\n",
      "  \n"
     ]
    },
    {
     "name": "stdout",
     "output_type": "stream",
     "text": [
      "inf\n"
     ]
    },
    {
     "name": "stderr",
     "output_type": "stream",
     "text": [
      "/anaconda3/lib/python3.6/site-packages/ipykernel_launcher.py:20: RuntimeWarning: overflow encountered in multiply\n"
     ]
    },
    {
     "name": "stdout",
     "output_type": "stream",
     "text": [
      "-1/max(p)=  -1.1107030132569982e-188\n",
      "[nan, nan, nan, nan, nan, nan, nan, nan, nan, nan]\n",
      "p= [9.003306807169133e+187, 7.428262018234994e+187]\n",
      "nan\n",
      "-1/max(p)=  nan\n",
      "[nan, nan, nan, nan, nan, nan, nan, nan, nan, nan]\n",
      "p= [nan, nan]\n",
      "nan\n",
      "-1/max(p)=  nan\n",
      "[nan, nan, nan, nan, nan, nan, nan, nan, nan, nan]\n",
      "p= [nan, nan]\n",
      "nan\n",
      "-1/max(p)=  nan\n",
      "[nan, nan, nan, nan, nan, nan, nan, nan, nan, nan]\n",
      "p= [nan, nan]\n",
      "nan\n",
      "-1/max(p)=  nan\n",
      "[nan, nan, nan, nan, nan, nan, nan, nan, nan, nan]\n",
      "p= [nan, nan]\n",
      "nan\n",
      "-1/max(p)=  nan\n",
      "[nan, nan, nan, nan, nan, nan, nan, nan, nan, nan]\n",
      "p= [nan, nan]\n",
      "nan\n",
      "-1/max(p)=  nan\n",
      "[nan, nan, nan, nan, nan, nan, nan, nan, nan, nan]\n",
      "p= [nan, nan]\n",
      "nan\n",
      "-1/max(p)=  nan\n",
      "[nan, nan, nan, nan, nan, nan, nan, nan, nan, nan]\n",
      "p= [nan, nan]\n",
      "nan\n",
      "-1/max(p)=  nan\n",
      "[nan, nan, nan, nan, nan, nan, nan, nan, nan, nan]\n",
      "p= [nan, nan]\n",
      "nan\n",
      "-1/max(p)=  nan\n",
      "[nan, nan, nan, nan, nan, nan, nan, nan, nan, nan]\n",
      "p= [nan, nan]\n",
      "nan\n",
      "-1/max(p)=  nan\n",
      "[nan, nan, nan, nan, nan, nan, nan, nan, nan, nan]\n",
      "p= [nan, nan]\n",
      "nan\n"
     ]
    },
    {
     "ename": "KeyboardInterrupt",
     "evalue": "",
     "output_type": "error",
     "traceback": [
      "\u001b[0;31m---------------------------------------------------------------------------\u001b[0m",
      "\u001b[0;31mKeyboardInterrupt\u001b[0m                         Traceback (most recent call last)",
      "\u001b[0;32m<ipython-input-34-d7cb8b9be7fc>\u001b[0m in \u001b[0;36m<module>\u001b[0;34m\u001b[0m\n\u001b[1;32m      1\u001b[0m \u001b[0mp\u001b[0m \u001b[0;34m=\u001b[0m \u001b[0;34m[\u001b[0m\u001b[0;34m]\u001b[0m\u001b[0;34m\u001b[0m\u001b[0;34m\u001b[0m\u001b[0m\n\u001b[0;32m----> 2\u001b[0;31m \u001b[0mp\u001b[0m \u001b[0;34m=\u001b[0m \u001b[0mfitter\u001b[0m\u001b[0;34m.\u001b[0m\u001b[0mfit\u001b[0m\u001b[0;34m(\u001b[0m\u001b[0;36m1e-2\u001b[0m\u001b[0;34m)\u001b[0m\u001b[0;34m\u001b[0m\u001b[0;34m\u001b[0m\u001b[0m\n\u001b[0m",
      "\u001b[0;32m<ipython-input-32-a4d0d5844cdd>\u001b[0m in \u001b[0;36mfit\u001b[0;34m(self, eps)\u001b[0m\n\u001b[1;32m     67\u001b[0m \u001b[0;31m#                                   options={'xtol': 1e-3, 'disp': False}).x[0])\u001b[0m\u001b[0;34m\u001b[0m\u001b[0;34m\u001b[0m\u001b[0;34m\u001b[0m\u001b[0m\n\u001b[1;32m     68\u001b[0m                 t.append(minimize(self.f, 0, args=(a, p, i), method='SLSQP', jac=self.der_f, bounds=[(-1/max(p), 1)],\n\u001b[0;32m---> 69\u001b[0;31m                                   options={'xtol': 1e-3, 'disp': False}).x[0]) # L-BFGS-B, TNC, SLSQP, trust-constr\n\u001b[0m\u001b[1;32m     70\u001b[0m             \u001b[0mprint\u001b[0m\u001b[0;34m(\u001b[0m\u001b[0;34m\"-1/max(p)= \"\u001b[0m\u001b[0;34m,\u001b[0m \u001b[0;34m-\u001b[0m\u001b[0;36m1\u001b[0m\u001b[0;34m/\u001b[0m\u001b[0mmax\u001b[0m\u001b[0;34m(\u001b[0m\u001b[0mp\u001b[0m\u001b[0;34m)\u001b[0m\u001b[0;34m)\u001b[0m\u001b[0;34m\u001b[0m\u001b[0;34m\u001b[0m\u001b[0m\n\u001b[1;32m     71\u001b[0m             \u001b[0mprint\u001b[0m\u001b[0;34m(\u001b[0m\u001b[0mt\u001b[0m\u001b[0;34m)\u001b[0m\u001b[0;34m\u001b[0m\u001b[0;34m\u001b[0m\u001b[0m\n",
      "\u001b[0;32m/anaconda3/lib/python3.6/site-packages/scipy/optimize/_minimize.py\u001b[0m in \u001b[0;36mminimize\u001b[0;34m(fun, x0, args, method, jac, hess, hessp, bounds, constraints, tol, callback, options)\u001b[0m\n\u001b[1;32m    606\u001b[0m     \u001b[0;32melif\u001b[0m \u001b[0mmeth\u001b[0m \u001b[0;34m==\u001b[0m \u001b[0;34m'slsqp'\u001b[0m\u001b[0;34m:\u001b[0m\u001b[0;34m\u001b[0m\u001b[0;34m\u001b[0m\u001b[0m\n\u001b[1;32m    607\u001b[0m         return _minimize_slsqp(fun, x0, args, jac, bounds,\n\u001b[0;32m--> 608\u001b[0;31m                                constraints, callback=callback, **options)\n\u001b[0m\u001b[1;32m    609\u001b[0m     \u001b[0;32melif\u001b[0m \u001b[0mmeth\u001b[0m \u001b[0;34m==\u001b[0m \u001b[0;34m'trust-constr'\u001b[0m\u001b[0;34m:\u001b[0m\u001b[0;34m\u001b[0m\u001b[0;34m\u001b[0m\u001b[0m\n\u001b[1;32m    610\u001b[0m         return _minimize_trustregion_constr(fun, x0, args, jac, hess, hessp,\n",
      "\u001b[0;32m/anaconda3/lib/python3.6/site-packages/scipy/optimize/slsqp.py\u001b[0m in \u001b[0;36m_minimize_slsqp\u001b[0;34m(func, x0, args, jac, bounds, constraints, maxiter, ftol, iprint, disp, eps, callback, **unknown_options)\u001b[0m\n\u001b[1;32m    417\u001b[0m             \u001b[0mc\u001b[0m \u001b[0;34m=\u001b[0m \u001b[0mconcatenate\u001b[0m\u001b[0;34m(\u001b[0m\u001b[0;34m(\u001b[0m\u001b[0mc_eq\u001b[0m\u001b[0;34m,\u001b[0m \u001b[0mc_ieq\u001b[0m\u001b[0;34m)\u001b[0m\u001b[0;34m)\u001b[0m\u001b[0;34m\u001b[0m\u001b[0;34m\u001b[0m\u001b[0m\n\u001b[1;32m    418\u001b[0m \u001b[0;34m\u001b[0m\u001b[0m\n\u001b[0;32m--> 419\u001b[0;31m         \u001b[0;32mif\u001b[0m \u001b[0mmode\u001b[0m \u001b[0;34m==\u001b[0m \u001b[0;36m0\u001b[0m \u001b[0;32mor\u001b[0m \u001b[0mmode\u001b[0m \u001b[0;34m==\u001b[0m \u001b[0;34m-\u001b[0m\u001b[0;36m1\u001b[0m\u001b[0;34m:\u001b[0m  \u001b[0;31m# gradient evaluation required\u001b[0m\u001b[0;34m\u001b[0m\u001b[0;34m\u001b[0m\u001b[0m\n\u001b[0m\u001b[1;32m    420\u001b[0m \u001b[0;34m\u001b[0m\u001b[0m\n\u001b[1;32m    421\u001b[0m             \u001b[0;31m# Compute the derivatives of the objective function\u001b[0m\u001b[0;34m\u001b[0m\u001b[0;34m\u001b[0m\u001b[0;34m\u001b[0m\u001b[0m\n",
      "\u001b[0;31mKeyboardInterrupt\u001b[0m: "
     ]
    }
   ],
   "source": [
    "p = []\n",
    "p = fitter.fit(1e-2)"
   ]
  },
  {
   "cell_type": "code",
   "execution_count": 20,
   "metadata": {},
   "outputs": [
    {
     "data": {
      "text/plain": [
       "[0.9775644232195697, 0.8808606347200066]"
      ]
     },
     "execution_count": 20,
     "metadata": {},
     "output_type": "execute_result"
    }
   ],
   "source": [
    "p"
   ]
  },
  {
   "cell_type": "code",
   "execution_count": 21,
   "metadata": {},
   "outputs": [],
   "source": [
    "P = []\n",
    "for j in range(len(p)):\n",
    "    P.append(p[j] * fitter.N[j]/fitter.N_D)"
   ]
  },
  {
   "cell_type": "code",
   "execution_count": 22,
   "metadata": {},
   "outputs": [
    {
     "data": {
      "text/plain": [
       "[0.4887822116097848, 0.4404303173600033]"
      ]
     },
     "execution_count": 22,
     "metadata": {},
     "output_type": "execute_result"
    }
   ],
   "source": [
    "P"
   ]
  },
  {
   "cell_type": "code",
   "execution_count": 109,
   "metadata": {},
   "outputs": [],
   "source": [
    "p = [100.8729970684941, 73.80758908842088]\n",
    "A = np.array([[2, 2, 2, 2, 2, 2, 2, 2, 2, 2, 2, 2, 2, 2, 2, 2 ,2, 2, 1 ,1 ,1 ,1,1,1, 1, 1, 1, 1, 1, 1, 1, 1, 1, 1, 1, 1,\n",
    "  0, 1, 1, 0, 0, 0, 0, 0 ,0, 0, 0 ,0 ,0, 0, 0, 0, 0, 0, 0, 0, 0, 0 ,0 ,0 ,0 ,0, 0, 0, 0, 0, 0, 0, 0 ,0 ,0 ,0,\n",
    "  0, 0, 0, 0, 0, 0, 0, 1, 1, 0, 0, 1 ,1 ,1 ,1 ,1 ,1 ,1 ,1 ,1 ,1 ,1 ,1 ,1, 1, 1, 1, 1],\n",
    " [0, 0, 0, 0, 0, 0, 0, 0, 0, 0, 0, 0, 0, 0, 0, 0, 0, 0, 0, 0, 0, 0, 0, 0, 0, 0, 0, 0, 1, 1, 1, 1, 1, 1, 2, 1,\n",
    "  2, 2, 2, 2, 2, 2, 3, 2, 2, 2, 3, 3, 3, 3, 3, 3, 3, 2, 3, 3, 3, 3, 3, 3, 2, 2, 2, 2, 2, 2, 2, 1, 1, 2, 1 ,1,\n",
    "  1, 1, 1, 1, 1, 1, 1 ,0, 0, 1, 0, 0, 0, 0, 0, 0, 0, 0, 0, 0, 0, 0, 0, 0, 0, 0, 0, 0]])"
   ]
  },
  {
   "cell_type": "code",
   "execution_count": 18,
   "metadata": {},
   "outputs": [
    {
     "name": "stdout",
     "output_type": "stream",
     "text": [
      "1.1751281796520237\n"
     ]
    }
   ],
   "source": [
    "print(np.sum((P[:] * A[:,0])))"
   ]
  },
  {
   "cell_type": "code",
   "execution_count": 69,
   "metadata": {},
   "outputs": [
    {
     "name": "stdout",
     "output_type": "stream",
     "text": [
      "30.285714285714285\n"
     ]
    }
   ],
   "source": [
    "print(fitter.d[0]/3.5)"
   ]
  },
  {
   "cell_type": "code",
   "execution_count": null,
   "metadata": {},
   "outputs": [],
   "source": []
  }
 ],
 "metadata": {
  "kernelspec": {
   "display_name": "Python 3",
   "language": "python",
   "name": "python3"
  },
  "language_info": {
   "codemirror_mode": {
    "name": "ipython",
    "version": 3
   },
   "file_extension": ".py",
   "mimetype": "text/x-python",
   "name": "python",
   "nbconvert_exporter": "python",
   "pygments_lexer": "ipython3",
   "version": "3.6.9"
  }
 },
 "nbformat": 4,
 "nbformat_minor": 2
}
